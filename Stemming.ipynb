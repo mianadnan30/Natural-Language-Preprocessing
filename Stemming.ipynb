{
 "cells": [
  {
   "cell_type": "code",
   "execution_count": 2,
   "metadata": {},
   "outputs": [
    {
     "data": {
      "text/plain": [
       "['His name is not the only problem.',\n",
       " 'Abdus Salam was born in British\\nIndia, and was a subject of George V, King of the United Kingdom of\\nGreat Britain, and Emperor of India.',\n",
       " 'In 1947, what had been British\\nIndia was torn into two new nations – India, with a majority Hindu\\npopulation, but with no offi cial state religion, and a new Muslim country, Pakistan.',\n",
       " 'Salam became a citizen of Pakistan while he was an\\nundergraduate at Cambridge University.',\n",
       " 'It was a nation into which\\nhe was thrust rather than born.',\n",
       " 'To refer to Pakistan as a geographical\\nlocation before 1947 makes no sense, and to refer to a Pakistani as having been born in India requires clarifi cation.',\n",
       " 'But at any time in his life,\\nAbdus Salam was always a child of a vast subcontinent, stretching over\\nsome 3000 kilometres, as far as from London to Istanbul – from north\\nto south, and from west to east; proud of its own history, traditions\\nand culture.',\n",
       " 'Cut off from central Asia by the high mountain chains of\\nthe Karakoram range and the Himalayas to the north, and by desert to\\nthe west, the Indo-Gangetic plain has felt continual tides of invasion\\nand migration through the sluice gates of the lower mountains to the\\nnorth-west – the Hindu Kush, Kirthar and Suleiman ranges, with their\\nvalleys and passes.']"
      ]
     },
     "execution_count": 2,
     "metadata": {},
     "output_type": "execute_result"
    }
   ],
   "source": [
    "import nltk\n",
    "paragraph=\"\"\"His name is not the only problem. Abdus Salam was born in British\n",
    "India, and was a subject of George V, King of the United Kingdom of\n",
    "Great Britain, and Emperor of India. In 1947, what had been British\n",
    "India was torn into two new nations – India, with a majority Hindu\n",
    "population, but with no offi cial state religion, and a new Muslim country, Pakistan. Salam became a citizen of Pakistan while he was an\n",
    "undergraduate at Cambridge University. It was a nation into which\n",
    "he was thrust rather than born. To refer to Pakistan as a geographical\n",
    "location before 1947 makes no sense, and to refer to a Pakistani as having been born in India requires clarifi cation. But at any time in his life,\n",
    "Abdus Salam was always a child of a vast subcontinent, stretching over\n",
    "some 3000 kilometres, as far as from London to Istanbul – from north\n",
    "to south, and from west to east; proud of its own history, traditions\n",
    "and culture. Cut off from central Asia by the high mountain chains of\n",
    "the Karakoram range and the Himalayas to the north, and by desert to\n",
    "the west, the Indo-Gangetic plain has felt continual tides of invasion\n",
    "and migration through the sluice gates of the lower mountains to the\n",
    "north-west – the Hindu Kush, Kirthar and Suleiman ranges, with their\n",
    "valleys and passes.\"\"\"\n",
    "\n",
    "\n"
   ]
  },
  {
   "cell_type": "code",
   "execution_count": 29,
   "metadata": {},
   "outputs": [
    {
     "name": "stdout",
     "output_type": "stream",
     "text": [
      "hi name problem .\n",
      "abdu salam born british india , subject georg V , king unit kingdom great britain , emperor india .\n",
      "In 1947 , british india torn two new nation – india , major hindu popul , offi cial state religion , new muslim countri , pakistan .\n",
      "salam becam citizen pakistan undergradu cambridg univers .\n",
      "It nation thrust rather born .\n",
      "To refer pakistan geograph locat 1947 make sens , refer pakistani born india requir clarifi cation .\n",
      "but time life , abdu salam alway child vast subcontin , stretch 3000 kilometr , far london istanbul – north south , west east ; proud histori , tradit cultur .\n",
      "cut central asia high mountain chain karakoram rang himalaya north , desert west , indo-ganget plain felt continu tide invas migrat sluic gate lower mountain north-west – hindu kush , kirthar suleiman rang , valley pass .\n"
     ]
    }
   ],
   "source": [
    "from nltk.stem import PorterStemmer\n",
    "from nltk.corpus import stopwords\n",
    "\n",
    "sentence=nltk.sent_tokenize(paragraph)\n",
    "# sentence\n",
    "\n",
    "stemmer=PorterStemmer()\n",
    "for i in range(len(sentence)):\n",
    "    words=nltk.word_tokenize(sentence[i])\n",
    "    words=[stemmer.stem(word) for word in words if word not in set(stopwords.words(\"english\"))]\n",
    "    sentence[i]= ' '.join(words)\n",
    "    print(sentence[i])\n",
    "\n"
   ]
  },
  {
   "cell_type": "code",
   "execution_count": null,
   "metadata": {},
   "outputs": [],
   "source": []
  }
 ],
 "metadata": {
  "kernelspec": {
   "display_name": "Python 3",
   "language": "python",
   "name": "python3"
  },
  "language_info": {
   "codemirror_mode": {
    "name": "ipython",
    "version": 3
   },
   "file_extension": ".py",
   "mimetype": "text/x-python",
   "name": "python",
   "nbconvert_exporter": "python",
   "pygments_lexer": "ipython3",
   "version": "3.7.6"
  }
 },
 "nbformat": 4,
 "nbformat_minor": 4
}
